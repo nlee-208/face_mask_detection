{
  "nbformat": 4,
  "nbformat_minor": 0,
  "metadata": {
    "colab": {
      "name": "face_mask_detection_preprocess.ipynb",
      "provenance": [],
      "collapsed_sections": []
    },
    "kernelspec": {
      "name": "python3",
      "display_name": "Python 3"
    }
  },
  "cells": [
    {
      "cell_type": "code",
      "metadata": {
        "id": "4Oyw5tfh7cxd"
      },
      "source": [
        "from tensorflow.keras.preprocessing.image import ImageDataGenerator\n",
        "from tensorflow.keras.applications import MobileNetV2\n",
        "from tensorflow.keras.layers import AveragePooling2D\n",
        "from tensorflow.keras.layers import Dropout\n",
        "from tensorflow.keras.layers import Flatten\n",
        "from tensorflow.keras.layers import Dense\n",
        "from tensorflow.keras.layers import Input\n",
        "from tensorflow.keras.models import Model\n",
        "from tensorflow.keras.optimizers import Adam\n",
        "from tensorflow.keras.applications.mobilenet_v2 import preprocess_input\n",
        "from tensorflow.keras.preprocessing.image import img_to_array\n",
        "from tensorflow.keras.preprocessing.image import load_img\n",
        "from tensorflow.keras.utils import to_categorical\n",
        "from sklearn.preprocessing import LabelBinarizer, OneHotEncoder\n",
        "from sklearn.model_selection import train_test_split\n",
        "from sklearn.metrics import classification_report\n",
        "from imutils import paths\n",
        "import matplotlib.pyplot as plt\n",
        "import numpy as np\n",
        "import argparse\n",
        "import os"
      ],
      "execution_count": null,
      "outputs": []
    },
    {
      "cell_type": "code",
      "metadata": {
        "id": "F_nvOMM1PdMT",
        "colab": {
          "base_uri": "https://localhost:8080/"
        },
        "outputId": "510af4a8-8238-4144-ba92-10573ecd6a36"
      },
      "source": [
        "cd ./drive/MyDrive/mask_detection/"
      ],
      "execution_count": null,
      "outputs": [
        {
          "output_type": "stream",
          "text": [
            "/content/drive/MyDrive/mask_detection\n"
          ],
          "name": "stdout"
        }
      ]
    },
    {
      "cell_type": "code",
      "metadata": {
        "id": "0wWp8jsSUNSj",
        "colab": {
          "base_uri": "https://localhost:8080/"
        },
        "outputId": "948eee82-7479-4468-a756-d0afaaa42dd8"
      },
      "source": [
        "base = os.getcwd()\n",
        "print(base)\n",
        "print(os.listdir(base))\n",
        "ds_path = os.path.join(base, \"mask_ds\")\n",
        "print(ds_path)\n",
        "print(os.listdir(ds_path))"
      ],
      "execution_count": null,
      "outputs": [
        {
          "output_type": "stream",
          "text": [
            "/content/drive/MyDrive/mask_detection\n",
            "['여러가지.ipynb', 'mask_ds']\n",
            "/content/drive/MyDrive/mask_detection/mask_ds\n",
            "['cor_mask', 'nomask', 'incor_mask']\n"
          ],
          "name": "stdout"
        }
      ]
    },
    {
      "cell_type": "markdown",
      "metadata": {
        "id": "T7xdVa8pxjUh"
      },
      "source": [
        "## 데이터셋 설명:\n",
        "- cor_mask, nomask, incor_mask\n",
        "- 폴더별 1400장 씩 (총 4200 장)\n",
        "- 1400 -> train 1000, valid 200, test 200\n",
        "\n",
        "\n",
        "### 데이터 공유링크\n",
        "https://drive.google.com/drive/folders/1QYrzMsNo5oLGO-sMddC3qDUYvVIxJfcf?usp=sharing"
      ]
    },
    {
      "cell_type": "code",
      "metadata": {
        "id": "QObqvyNBVhJc"
      },
      "source": [
        "# def imlist(path):\n",
        "#     \"\"\"\n",
        "#     The function imlist returns all the names of the files in \n",
        "#     the directory path supplied as argument to the function.\n",
        "#     \"\"\"\n",
        "#     return [os.path.join(path, f) for f in os.listdir(path)]\n",
        "\n",
        "# imlist(ds_path)"
      ],
      "execution_count": null,
      "outputs": []
    },
    {
      "cell_type": "code",
      "metadata": {
        "id": "vulIsvniTxmm"
      },
      "source": [
        "# imagePaths = list(paths.list_images(ds_path))\n",
        "# imagePaths"
      ],
      "execution_count": null,
      "outputs": []
    },
    {
      "cell_type": "markdown",
      "metadata": {
        "id": "aR7GCDeKqHn-"
      },
      "source": [
        "## Face mask detecting training (preprocess)\n"
      ]
    },
    {
      "cell_type": "code",
      "metadata": {
        "id": "bsVv1Hp88Sjb",
        "colab": {
          "base_uri": "https://localhost:8080/"
        },
        "outputId": "bba25be7-73b5-445e-c169-73e46217e80d"
      },
      "source": [
        "# grab the list of images in our dataset directory, then initialize\n",
        "# the list of data (i.e., images) and class images\n",
        "print(\"[INFO] loading images...\")\n",
        "imagePaths = list(paths.list_images(ds_path))\n",
        "data = []\n",
        "labels = []\n",
        "# label_candidates = ['nomask','mask_inc', 'mask_cor']\n",
        "# loop over the image paths\n",
        "for imagePath in imagePaths:\n",
        "\t# extract the class label from the filename\n",
        "\tlabel = imagePath.split(os.path.sep)[-2]\n",
        "\t# 다 keras 기반 함수들 load_img -> img_to_arrary -> preprocess_input \n",
        "\timage = load_img(imagePath, target_size=(224, 224)) # resizing\n",
        "\timage = img_to_array(image) # numpy array로 변환 \n",
        "\timage = preprocess_input(image) # compatible 한 전처리를 위해 위의 load_img랑 세트 ,mobilnetv2만을 위한 preprocess class\n",
        "\t# 픽셀값들이 샘플별로 -1 ~ 1로 스케일링\n",
        "\n",
        "\t# update the data and labels lists, respectively\n",
        "\tdata.append(image)\n",
        "\tlabels.append(label)\n",
        "# convert the data and labels to NumPy arrays\n",
        "data = np.array(data, dtype=\"float32\")\n",
        "labels = np.array(labels)\n",
        "\n",
        "# 메모리가 부족하면 HDF5를 활용하라는데... 더 큰 데이터셋 쓸거면 고려해볼만한듯...?"
      ],
      "execution_count": null,
      "outputs": [
        {
          "output_type": "stream",
          "text": [
            "[INFO] loading images...\n"
          ],
          "name": "stdout"
        }
      ]
    },
    {
      "cell_type": "code",
      "metadata": {
        "id": "2Z4W2ZdMuLll",
        "colab": {
          "base_uri": "https://localhost:8080/"
        },
        "outputId": "70dfcf97-8521-477f-eee3-844c72a5fbeb"
      },
      "source": [
        "print(data[1])\n",
        "print(labels[1])"
      ],
      "execution_count": null,
      "outputs": [
        {
          "output_type": "stream",
          "text": [
            "[[[-0.27058822 -0.23137254 -0.18431371]\n",
            "  [-0.27843136 -0.23921567 -0.20784312]\n",
            "  [-0.26274508 -0.2235294  -0.17647058]\n",
            "  ...\n",
            "  [ 0.8901961   1.          1.        ]\n",
            "  [ 0.8901961   1.          1.        ]\n",
            "  [ 0.8901961   1.          1.        ]]\n",
            "\n",
            " [[-0.12941176 -0.09019607 -0.06666666]\n",
            "  [-0.14509803 -0.10588235 -0.08235294]\n",
            "  [-0.12941176 -0.09019607 -0.05882353]\n",
            "  ...\n",
            "  [ 0.8901961   1.          1.        ]\n",
            "  [ 0.8901961   1.          1.        ]\n",
            "  [ 0.8901961   1.          1.        ]]\n",
            "\n",
            " [[-0.16862744 -0.12156862 -0.12156862]\n",
            "  [-0.17647058 -0.12941176 -0.12941176]\n",
            "  [-0.1607843  -0.11372548 -0.11372548]\n",
            "  ...\n",
            "  [ 0.90588236  1.          1.        ]\n",
            "  [ 0.90588236  1.          1.        ]\n",
            "  [ 0.90588236  1.          1.        ]]\n",
            "\n",
            " ...\n",
            "\n",
            " [[-0.56078434 -0.4980392  -0.3490196 ]\n",
            "  [-0.56078434 -0.4980392  -0.3333333 ]\n",
            "  [-0.5686275  -0.5058824  -0.35686272]\n",
            "  ...\n",
            "  [-0.5294118  -0.6313726  -0.69411767]\n",
            "  [-0.654902   -0.69411767 -0.7411765 ]\n",
            "  [-0.5137255  -0.5686275  -0.6156863 ]]\n",
            "\n",
            " [[-0.5686275  -0.5058824  -0.35686272]\n",
            "  [-0.5529412  -0.49019605 -0.32549018]\n",
            "  [-0.56078434 -0.4980392  -0.3490196 ]\n",
            "  ...\n",
            "  [-0.6        -0.654902   -0.7176471 ]\n",
            "  [-0.5686275  -0.62352943 -0.67058825]\n",
            "  [-0.5686275  -0.62352943 -0.6862745 ]]\n",
            "\n",
            " [[-0.56078434 -0.4980392  -0.3490196 ]\n",
            "  [-0.56078434 -0.4980392  -0.3333333 ]\n",
            "  [-0.5529412  -0.49019605 -0.34117645]\n",
            "  ...\n",
            "  [-0.6313726  -0.67058825 -0.7176471 ]\n",
            "  [-0.5529412  -0.62352943 -0.6627451 ]\n",
            "  [-0.5137255  -0.5686275  -0.6313726 ]]]\n",
            "cor_mask\n"
          ],
          "name": "stdout"
        }
      ]
    },
    {
      "cell_type": "code",
      "metadata": {
        "id": "94ETb3Ue1kGn",
        "colab": {
          "base_uri": "https://localhost:8080/"
        },
        "outputId": "806c3935-9a28-4dd7-9e3a-861ca0378626"
      },
      "source": [
        "print(data[-1])\n",
        "print(labels[-1])"
      ],
      "execution_count": null,
      "outputs": [
        {
          "output_type": "stream",
          "text": [
            "[[[-0.94509804 -0.92941177 -0.9529412 ]\n",
            "  [-0.92156863 -0.90588236 -0.92941177]\n",
            "  [-0.90588236 -0.90588236 -0.92156863]\n",
            "  ...\n",
            "  [-0.06666666 -0.11372548 -0.23921567]\n",
            "  [-0.01176471 -0.06666666 -0.20784312]\n",
            "  [ 0.11372554  0.05098045 -0.09803921]]\n",
            "\n",
            " [[-0.94509804 -0.92941177 -0.9529412 ]\n",
            "  [-0.92156863 -0.90588236 -0.92941177]\n",
            "  [-0.92156863 -0.90588236 -0.92941177]\n",
            "  ...\n",
            "  [-0.35686272 -0.42745095 -0.4980392 ]\n",
            "  [-0.11372548 -0.19215685 -0.26274508]\n",
            "  [-0.01960784 -0.09803921 -0.17647058]]\n",
            "\n",
            " [[-0.9372549  -0.9372549  -0.9529412 ]\n",
            "  [-0.92156863 -0.92156863 -0.9372549 ]\n",
            "  [-0.90588236 -0.90588236 -0.92156863]\n",
            "  ...\n",
            "  [-0.19999999 -0.26274508 -0.36470586]\n",
            "  [-0.08235294 -0.14509803 -0.24705881]\n",
            "  [ 0.02745104 -0.04313725 -0.17647058]]\n",
            "\n",
            " ...\n",
            "\n",
            " [[-0.49019605 -0.49019605 -0.2862745 ]\n",
            "  [-0.47450978 -0.47450978 -0.27058822]\n",
            "  [-0.46666664 -0.49019605 -0.27843136]\n",
            "  ...\n",
            "  [-0.01960784 -0.35686272 -0.6313726 ]\n",
            "  [-0.02745098 -0.34117645 -0.62352943]\n",
            "  [-0.04313725 -0.35686272 -0.6392157 ]]\n",
            "\n",
            " [[-0.4823529  -0.4823529  -0.26274508]\n",
            "  [-0.4823529  -0.4823529  -0.27843136]\n",
            "  [-0.4823529  -0.5058824  -0.29411763]\n",
            "  ...\n",
            "  [-0.04313725 -0.35686272 -0.6392157 ]\n",
            "  [-0.03529412 -0.3490196  -0.6313726 ]\n",
            "  [-0.05098039 -0.36470586 -0.64705884]]\n",
            "\n",
            " [[-0.4980392  -0.4980392  -0.27843136]\n",
            "  [-0.4980392  -0.4980392  -0.29411763]\n",
            "  [-0.4823529  -0.5058824  -0.29411763]\n",
            "  ...\n",
            "  [-0.03529412 -0.3490196  -0.6313726 ]\n",
            "  [-0.05882353 -0.372549   -0.654902  ]\n",
            "  [-0.05098039 -0.36470586 -0.64705884]]]\n",
            "incor_mask\n"
          ],
          "name": "stdout"
        }
      ]
    },
    {
      "cell_type": "code",
      "metadata": {
        "id": "XF96jmnC8U_7"
      },
      "source": [
        "# perform one-hot encoding on the labels\n",
        "lb = LabelBinarizer() #sklearn LB vs onehot => int vs float...?\n",
        "labels = lb.fit_transform(labels)\n",
        "labels = to_categorical(labels)\n",
        "\n",
        "# construct the training image generator for data augmentation, 다양한 변조이미지들로도 학습\n",
        "aug = ImageDataGenerator(\n",
        "\trotation_range=20,\n",
        "\tzoom_range=0.15,\n",
        "\twidth_shift_range=0.2,\n",
        "\theight_shift_range=0.2,\n",
        "\tshear_range=0.15,\n",
        "\thorizontal_flip=True,\n",
        "\tfill_mode=\"nearest\")"
      ],
      "execution_count": null,
      "outputs": []
    },
    {
      "cell_type": "code",
      "metadata": {
        "id": "niQPPRe42T0-"
      },
      "source": [
        "?LabelBinarizer()"
      ],
      "execution_count": null,
      "outputs": []
    },
    {
      "cell_type": "code",
      "metadata": {
        "id": "PU43PS062Dtx",
        "colab": {
          "base_uri": "https://localhost:8080/"
        },
        "outputId": "f8cadc40-ae05-4445-9148-ee511bfb89f8"
      },
      "source": [
        "labels.shape"
      ],
      "execution_count": null,
      "outputs": [
        {
          "output_type": "execute_result",
          "data": {
            "text/plain": [
              "(4200, 3, 2)"
            ]
          },
          "metadata": {
            "tags": []
          },
          "execution_count": 31
        }
      ]
    },
    {
      "cell_type": "code",
      "metadata": {
        "id": "9iRvpWEQ2LnF",
        "colab": {
          "base_uri": "https://localhost:8080/"
        },
        "outputId": "4d8ea563-f311-44bd-8a42-9284244dd007"
      },
      "source": [
        "labels[0] "
      ],
      "execution_count": null,
      "outputs": [
        {
          "output_type": "execute_result",
          "data": {
            "text/plain": [
              "array([[0., 1.],\n",
              "       [1., 0.],\n",
              "       [1., 0.]], dtype=float32)"
            ]
          },
          "metadata": {
            "tags": []
          },
          "execution_count": 33
        }
      ]
    },
    {
      "cell_type": "code",
      "metadata": {
        "id": "bwj6z-Sn2j-D",
        "colab": {
          "base_uri": "https://localhost:8080/",
          "height": 35
        },
        "outputId": "5756f8f0-54a9-43c8-fc43-273730dcdbec"
      },
      "source": [
        "lb.y_type_"
      ],
      "execution_count": null,
      "outputs": [
        {
          "output_type": "execute_result",
          "data": {
            "application/vnd.google.colaboratory.intrinsic+json": {
              "type": "string"
            },
            "text/plain": [
              "'multiclass'"
            ]
          },
          "metadata": {
            "tags": []
          },
          "execution_count": 36
        }
      ]
    },
    {
      "cell_type": "markdown",
      "metadata": {
        "id": "lFmhfJV_s2Lk"
      },
      "source": [
        "![image.png](data:image/png;base64,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)"
      ]
    },
    {
      "cell_type": "markdown",
      "metadata": {
        "id": "JX5o2ggqtQMS"
      },
      "source": [
        "LabelEncoder – for labels(response variable) coding 1,2,3… [implies order]\n",
        "\n",
        "OrdinalEncoder – for features coding 1,2,3 … [implies order]\n",
        "\n",
        "Label Binarizer – for response variable, coding 0 & 1 [ creating multiple dummy columns]\n",
        "\n",
        "OneHotEncoder - for feature variables, coding 0 & 1 [ creating multiple dummy columns]\n",
        "\n",
        "\n",
        "=> OneHotEncoder produces a SciPy spares-matrix by default, while the LabelBinarizer produces a dense NumPy array by default.\n",
        "\n",
        "\n",
        "https://stackoverflow.com/questions/50473381/scikit-learns-labelbinarizer-vs-onehotencoder"
      ]
    },
    {
      "cell_type": "markdown",
      "metadata": {
        "id": "_pvm_tgCqu37"
      },
      "source": [
        "## Applying Face Detection w/ pretrained (Preprocess)"
      ]
    },
    {
      "cell_type": "code",
      "metadata": {
        "id": "H6m49o6f8U9O"
      },
      "source": [
        "# ?cv2.dnn.blobFromImage"
      ],
      "execution_count": null,
      "outputs": []
    },
    {
      "cell_type": "markdown",
      "metadata": {
        "id": "ChYL7H5DVEFO"
      },
      "source": [
        "## OpenCV's blobFromImage\n",
        "- Blob => binary large object, 이미지,사운드, 비디오와 같은 멀티미디어 데이터를 다룰 때 사용\n",
        "\n",
        "**1.   Mean Subtraction**\n",
        "\n",
        "**2.   Scaling**\n",
        "\n",
        "![image.png](data:image/png;base64,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)\n",
        "\n",
        "- 각 RGB 채널의 average pixel intensity 에 대해서 정규화\n",
        "- 모든 딥러닝 아키텍쳐가 mean subtraction 방법을 요하진 않기에 다른 방법을 사용할 때는 관련 publication 혹은 documentation 확인이 필수적\n",
        "- 어떤 경우에는 mean subtraction만 수행(시그마 = 1)\n",
        "\n",
        "**3. (Optional) Channel Swapping**\n",
        "- OpenCV 는 이미지가 BGR 채널 순서로 있다고 가정 => 평균값들은 RGB 순으로 입력/계산되기에 R과 B의 채널 을 바꿔줌...\n",
        "\n",
        "**cnn.dnn.blobFromImage(image, scalefactor = 1.0, size, mean, swapRB = True)**\n",
        "\n",
        "- image => dnn input 전에 전처리 원하는 이미지\n",
        "- scalefactor => 시그마\n",
        "- size => 우리는 300x300 or 224x224\n",
        "- mean => RGB값에 대해서 해야하기에 (R,G,B) 의 3-tuple을 입력\n",
        "- swapRB => T or F\n",
        "\n",
        "=> 결과물로 binary large object를 출력"
      ]
    },
    {
      "cell_type": "code",
      "metadata": {
        "id": "R256USD6XsFJ"
      },
      "source": [
        "image = cv2.imread(args[\"image\"])\n",
        "orig = image.copy()\n",
        "(h, w) = image.shape[:2]\n",
        "# construct a blob from the image\n",
        "blob = cv2.dnn.blobFromImage(image, 1.0, (300, 300),\n",
        "\t(104.0, 177.0, 123.0))\n",
        "# image 별로 해당 RBB 튜플 순서대로 빼주고 1로 나누어주는 스케일링 진행 \n",
        "# 모델에 맞는 이미지 사이즈로 입력\n",
        "# swapRB 는 디폴트 T 이기에 생략\n",
        " # 여기서 (104.0,177.0,123.0)는 mean subtraction의 경험적 최적값...? 없이하면 trainset 에서 채널별로 평균 pixel intensity 사용??? \n",
        " \n",
        "# pass the blob through the network and obtain the face detections\n",
        "print(\"[INFO] computing face detections...\")\n",
        "net.setInput(blob)\n",
        "detections = net.forward()"
      ],
      "execution_count": null,
      "outputs": []
    },
    {
      "cell_type": "code",
      "metadata": {
        "id": "Q4lOzh3HrCXv"
      },
      "source": [
        "\t\t# extract the face ROI, convert it from BGR to RGB channel\n",
        "\t\t# ordering, resize it to 224x224, and preprocess it\n",
        "\t\tface = image[startY:endY, startX:endX] # face BB\n",
        "\t\tface = cv2.cvtColor(face, cv2.COLOR_BGR2RGB) # BGR2GRAY BGR 을 RGB color space 로 바꾸어줌 (byte  역순의 관계)\n",
        "\t\tface = cv2.resize(face, (224, 224)) # 224x224 로 resizing\n",
        "\t\tface = img_to_array(face)\n",
        "\t\tface = preprocess_input(face) #mobilnetv2만을 위한 preprocess class\n",
        "\t\tface = np.expand_dims(face, axis=0)\n",
        "  \n",
        "\t\t# pass the face through the model to determine if the face\n",
        "\t\t# has a mask or not\n",
        "\t\t(mask, withoutMask) = model.predict(face)[0]"
      ],
      "execution_count": null,
      "outputs": []
    }
  ]
}